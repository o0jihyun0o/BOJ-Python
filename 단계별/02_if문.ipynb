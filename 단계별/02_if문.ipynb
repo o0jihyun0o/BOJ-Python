{
 "cells": [
  {
   "cell_type": "markdown",
   "id": "374f0909-e841-47a0-b0dd-912f67db730b",
   "metadata": {},
   "source": [
    "# 두 수 비교하기 (1330)"
   ]
  },
  {
   "cell_type": "code",
   "execution_count": null,
   "id": "48a1ceee-4946-4222-bf28-49db1cf1e98d",
   "metadata": {},
   "outputs": [],
   "source": []
  },
  {
   "cell_type": "markdown",
   "id": "71a479e3-4413-472f-8c4c-f487627d91de",
   "metadata": {
    "tags": []
   },
   "source": [
    "# 알람 시계 (2884)"
   ]
  },
  {
   "cell_type": "code",
   "execution_count": 5,
   "id": "f7c99fed-1d7f-469c-bec9-35952a69b1af",
   "metadata": {},
   "outputs": [
    {
     "name": "stdin",
     "output_type": "stream",
     "text": [
      " 23 40\n"
     ]
    },
    {
     "name": "stdout",
     "output_type": "stream",
     "text": [
      "22 55\n"
     ]
    }
   ],
   "source": [
    "\n",
    "H, M = map(int, input().split())\n",
    "H2 = 0\n",
    "M2 = 0\n",
    "\n",
    "if M < 45:\n",
    "    if H < 1:\n",
    "        H2 = H + 24 - 1\n",
    "        M2 = M + 60 - 45\n",
    "    else:\n",
    "        H2 = H - 1\n",
    "        M2 = M + 60 - 45\n",
    "else:\n",
    "    H2 = H\n",
    "    M2 = M - 45\n",
    "\n",
    "print(H2, M2)\n",
    "        \n",
    "        \n"
   ]
  },
  {
   "cell_type": "markdown",
   "id": "f8e8405b-e0dd-4ad3-93ed-3b26a60dcd14",
   "metadata": {},
   "source": [
    "# 오븐 시계 (2525)"
   ]
  },
  {
   "cell_type": "code",
   "execution_count": 31,
   "id": "f141399d-397e-4c9b-b2ae-64e3559a597d",
   "metadata": {
    "tags": []
   },
   "outputs": [
    {
     "name": "stdin",
     "output_type": "stream",
     "text": [
      " 20 32\n",
      " 240\n"
     ]
    },
    {
     "name": "stdout",
     "output_type": "stream",
     "text": [
      "0 32\n"
     ]
    }
   ],
   "source": [
    "h, m = map(int, input().split())\n",
    "time = int(input())\n",
    "fh = 0\n",
    "fm = 0\n",
    "ph = time // 60\n",
    "pm = time % 60\n",
    "    \n",
    "if m + pm >= 60:\n",
    "    if h + ph + 1 >= 24:\n",
    "        fh = h + ph + 1 - 24\n",
    "        fm = m + pm - 60\n",
    "    else:\n",
    "        fh = h + ph + 1\n",
    "        fm = m + pm - 60\n",
    "else:\n",
    "    if h + ph >= 24:\n",
    "        fh = h + ph - 24\n",
    "        fm = m + pm\n",
    "    else:\n",
    "        fh = h + ph\n",
    "        fm = m + pm\n",
    "\n",
    "print(fh, fm)"
   ]
  },
  {
   "cell_type": "markdown",
   "id": "37f589e3-e38a-4672-9636-2f2a1fd576a4",
   "metadata": {},
   "source": [
    "# 주사위 세개 (2480)\n",
    "## list, list.sort()"
   ]
  },
  {
   "cell_type": "code",
   "execution_count": 39,
   "id": "389e5443-37ae-46ca-a2e8-911a36a0e619",
   "metadata": {},
   "outputs": [
    {
     "name": "stdin",
     "output_type": "stream",
     "text": [
      " 6 2 3\n"
     ]
    },
    {
     "name": "stdout",
     "output_type": "stream",
     "text": [
      "600\n"
     ]
    }
   ],
   "source": [
    "a, b, c = map(int, input().split())\n",
    "reward = 0\n",
    "\n",
    "if a == b == c:\n",
    "    reward = 10000 + (a * 1000)\n",
    "else:\n",
    "    if a == b or a == c or b == c:\n",
    "        if a == b or a == c:\n",
    "            reward = 1000 + (a * 100)\n",
    "        else:\n",
    "            reward = 1000 + (b * 100)\n",
    "    else:\n",
    "        list = [a, b, c]\n",
    "        list.sort(reverse=True)\n",
    "        reward = list[0] * 100\n",
    "\n",
    "print(reward)"
   ]
  },
  {
   "cell_type": "markdown",
   "id": "b2b9da41-2a44-489a-a710-51667f5155d4",
   "metadata": {},
   "source": [
    "## set"
   ]
  },
  {
   "cell_type": "code",
   "execution_count": 7,
   "id": "c0a21582-e9a5-4e42-a9a1-97dbdebd7688",
   "metadata": {
    "tags": []
   },
   "outputs": [
    {
     "name": "stdin",
     "output_type": "stream",
     "text": [
      " 2 2 4\n"
     ]
    },
    {
     "name": "stdout",
     "output_type": "stream",
     "text": [
      "1200\n"
     ]
    }
   ],
   "source": [
    "a, b, c = map(int, input().split())\n",
    "l = [a, b, c]\n",
    "l.sort()\n",
    "sl = set(l)\n",
    "\n",
    "if len(sl) == 1:\n",
    "    print(10000 + (l[0] * 1000))\n",
    "elif len(sl) == 2:\n",
    "    print(1000 + (l[1] * 100))\n",
    "else:\n",
    "    print(l[-1] * 100)"
   ]
  },
  {
   "cell_type": "markdown",
   "id": "72835b62-7fa5-475c-964c-b4c0d3376be8",
   "metadata": {},
   "source": [
    "# 사분면 고르기 (14681)"
   ]
  },
  {
   "cell_type": "code",
   "execution_count": 2,
   "id": "10931502-42c6-4bfd-8940-0df4ca012217",
   "metadata": {},
   "outputs": [
    {
     "name": "stdin",
     "output_type": "stream",
     "text": [
      " 9\n",
      " -13\n"
     ]
    },
    {
     "name": "stdout",
     "output_type": "stream",
     "text": [
      "4\n"
     ]
    }
   ],
   "source": [
    "x = int(input())\n",
    "y = int(input())\n",
    "\n",
    "if x > 0:\n",
    "    if y > 0:\n",
    "        print(1)\n",
    "    else:\n",
    "        print(4)\n",
    "else:\n",
    "    if y > 0:\n",
    "        print(2)\n",
    "    else:\n",
    "        print(3)"
   ]
  }
 ],
 "metadata": {
  "kernelspec": {
   "display_name": "Python 3 (ipykernel)",
   "language": "python",
   "name": "python3"
  },
  "language_info": {
   "codemirror_mode": {
    "name": "ipython",
    "version": 3
   },
   "file_extension": ".py",
   "mimetype": "text/x-python",
   "name": "python",
   "nbconvert_exporter": "python",
   "pygments_lexer": "ipython3",
   "version": "3.9.7"
  },
  "toc-autonumbering": true
 },
 "nbformat": 4,
 "nbformat_minor": 5
}
