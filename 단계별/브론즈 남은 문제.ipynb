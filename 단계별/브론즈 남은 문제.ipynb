{
 "cells": [
  {
   "cell_type": "markdown",
   "id": "8820451f-59ad-4bac-a585-ee47e7106f81",
   "metadata": {},
   "source": [
    "# 평균은 넘겠지 (4344)"
   ]
  },
  {
   "cell_type": "markdown",
   "id": "b3931b82-3077-4b48-812d-8773c81b0a3f",
   "metadata": {},
   "source": [
    "## 리스트 슬라이싱, lambda, 문자열 포매팅"
   ]
  },
  {
   "cell_type": "code",
   "execution_count": 14,
   "id": "5ad118a6-9489-4f06-bc98-3aec08cd0c7e",
   "metadata": {},
   "outputs": [
    {
     "name": "stdin",
     "output_type": "stream",
     "text": [
      " 5\n",
      " 5 50 50 70 80 100\n"
     ]
    },
    {
     "name": "stdout",
     "output_type": "stream",
     "text": [
      "40.000%\n"
     ]
    },
    {
     "name": "stdin",
     "output_type": "stream",
     "text": [
      " 7 100 95 90 80 70 60 50\n"
     ]
    },
    {
     "name": "stdout",
     "output_type": "stream",
     "text": [
      "57.143%\n"
     ]
    },
    {
     "name": "stdin",
     "output_type": "stream",
     "text": [
      " 3 70 90 80\n"
     ]
    },
    {
     "name": "stdout",
     "output_type": "stream",
     "text": [
      "33.333%\n"
     ]
    },
    {
     "name": "stdin",
     "output_type": "stream",
     "text": [
      " 3 70 90 81\n"
     ]
    },
    {
     "name": "stdout",
     "output_type": "stream",
     "text": [
      "66.667%\n"
     ]
    },
    {
     "name": "stdin",
     "output_type": "stream",
     "text": [
      " 9 100 99 98 97 96 95 94 93 91\n"
     ]
    },
    {
     "name": "stdout",
     "output_type": "stream",
     "text": [
      "55.556%\n"
     ]
    }
   ],
   "source": [
    "C = int(input())\n",
    "\n",
    "for i in range(C):\n",
    "    num_score = list(map(int, input().split()))\n",
    "    \n",
    "    num = num_score[0]\n",
    "    score = num_score[1:]\n",
    "    \n",
    "    average = sum(score) / num\n",
    "    above = sum(list(map(lambda x: x > average, score)))\n",
    "    ## sum([False, Flase, False, True, True])\n",
    "    ratio = above/num * 100\n",
    "    \n",
    "    print(\"{:.3f}%\".format(ratio))"
   ]
  },
  {
   "cell_type": "markdown",
   "id": "6b3e9009-78e0-4064-8a62-3f05816fc20b",
   "metadata": {},
   "source": [
    "## 슬라이싱 연습"
   ]
  },
  {
   "cell_type": "code",
   "execution_count": 13,
   "id": "0f223277-f0a7-472c-82b8-cc5b2041e94e",
   "metadata": {},
   "outputs": [
    {
     "name": "stdout",
     "output_type": "stream",
     "text": [
      "[1] [2, 3]\n"
     ]
    }
   ],
   "source": [
    "example = [1, 2, 3]\n",
    "s1 = example[:1]\n",
    "s2 = example[1:]\n",
    "print(s1, s2)"
   ]
  },
  {
   "cell_type": "markdown",
   "id": "a784e66f-4352-44e0-8544-d09947aef985",
   "metadata": {},
   "source": []
  },
  {
   "cell_type": "code",
   "execution_count": null,
   "id": "075e00a2-6b0f-4535-be5d-2592c566584c",
   "metadata": {},
   "outputs": [],
   "source": []
  },
  {
   "cell_type": "code",
   "execution_count": null,
   "id": "070ba7af-5ada-47ea-a775-85020dafadc9",
   "metadata": {},
   "outputs": [],
   "source": []
  }
 ],
 "metadata": {
  "kernelspec": {
   "display_name": "Python 3 (ipykernel)",
   "language": "python",
   "name": "python3"
  },
  "language_info": {
   "codemirror_mode": {
    "name": "ipython",
    "version": 3
   },
   "file_extension": ".py",
   "mimetype": "text/x-python",
   "name": "python",
   "nbconvert_exporter": "python",
   "pygments_lexer": "ipython3",
   "version": "3.9.7"
  }
 },
 "nbformat": 4,
 "nbformat_minor": 5
}
