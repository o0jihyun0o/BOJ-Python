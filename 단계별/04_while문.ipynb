{
 "cells": [
  {
   "cell_type": "markdown",
   "id": "e7cad3d1-72f6-47c0-adeb-c8679b00b957",
   "metadata": {
    "tags": []
   },
   "source": [
    "# A+B - 5 (10952)"
   ]
  },
  {
   "cell_type": "code",
   "execution_count": 3,
   "id": "2388a882-5453-415b-b3b3-e9e410b822f7",
   "metadata": {},
   "outputs": [
    {
     "name": "stdin",
     "output_type": "stream",
     "text": [
      " 1 1\n"
     ]
    },
    {
     "name": "stdout",
     "output_type": "stream",
     "text": [
      "2\n"
     ]
    },
    {
     "name": "stdin",
     "output_type": "stream",
     "text": [
      " 2 3\n"
     ]
    },
    {
     "name": "stdout",
     "output_type": "stream",
     "text": [
      "5\n"
     ]
    },
    {
     "name": "stdin",
     "output_type": "stream",
     "text": [
      " 3 4\n"
     ]
    },
    {
     "name": "stdout",
     "output_type": "stream",
     "text": [
      "7\n"
     ]
    },
    {
     "name": "stdin",
     "output_type": "stream",
     "text": [
      " 9 8\n"
     ]
    },
    {
     "name": "stdout",
     "output_type": "stream",
     "text": [
      "17\n"
     ]
    },
    {
     "name": "stdin",
     "output_type": "stream",
     "text": [
      " 5 2\n"
     ]
    },
    {
     "name": "stdout",
     "output_type": "stream",
     "text": [
      "7\n"
     ]
    },
    {
     "name": "stdin",
     "output_type": "stream",
     "text": [
      " 0 0\n"
     ]
    }
   ],
   "source": [
    "while True:\n",
    "    a, b = map(int, input().split())\n",
    "    if a == 0 and b == 0:\n",
    "        break\n",
    "    else:\n",
    "        print(a + b)"
   ]
  },
  {
   "cell_type": "markdown",
   "id": "0105c80e-bb32-4f85-b6a8-4c33aa4e3b91",
   "metadata": {},
   "source": [
    "# A+B - 4 (10951)"
   ]
  },
  {
   "cell_type": "markdown",
   "id": "a4dcc7f7-87f2-490e-b247-5bdb83dcf41e",
   "metadata": {},
   "source": [
    "## EOF (End Of File)"
   ]
  },
  {
   "cell_type": "code",
   "execution_count": 5,
   "id": "6c8e6e31-13a5-47f9-ad2c-3c5add23591d",
   "metadata": {
    "tags": []
   },
   "outputs": [
    {
     "name": "stdin",
     "output_type": "stream",
     "text": [
      " 1 1\n"
     ]
    },
    {
     "name": "stdout",
     "output_type": "stream",
     "text": [
      "2\n"
     ]
    },
    {
     "name": "stdin",
     "output_type": "stream",
     "text": [
      " 2 3\n"
     ]
    },
    {
     "name": "stdout",
     "output_type": "stream",
     "text": [
      "5\n"
     ]
    },
    {
     "name": "stdin",
     "output_type": "stream",
     "text": [
      " \n"
     ]
    }
   ],
   "source": [
    "# 끝을 알리는 입력값이 존재하지 않을 때 예외처리를 이용하여 문제 해결!!\n",
    "\n",
    "while True:\n",
    "    try:\n",
    "        a, b = map(int, input().split())\n",
    "        print(a + b)\n",
    "    except:\n",
    "        break"
   ]
  },
  {
   "cell_type": "markdown",
   "id": "698b2608-5faa-476c-be3e-092bc27a2115",
   "metadata": {},
   "source": [
    "## 더하기 사이클 (1110)"
   ]
  },
  {
   "cell_type": "code",
   "execution_count": 12,
   "id": "bf249c21-7af2-4a9f-9f6d-4587021567a6",
   "metadata": {},
   "outputs": [
    {
     "name": "stdin",
     "output_type": "stream",
     "text": [
      " 26\n"
     ]
    },
    {
     "name": "stdout",
     "output_type": "stream",
     "text": [
      "4\n"
     ]
    }
   ],
   "source": [
    "num = int(input())\n",
    "new_num = num\n",
    "cycle = 0\n",
    "\n",
    "while True:\n",
    "    first = new_num // 10\n",
    "    second = new_num % 10\n",
    "    new_num = (second * 10) + ((first + second) % 10)\n",
    "    cycle += 1\n",
    "    if num == new_num:\n",
    "        break\n",
    "print(cycle)"
   ]
  }
 ],
 "metadata": {
  "kernelspec": {
   "display_name": "Python 3 (ipykernel)",
   "language": "python",
   "name": "python3"
  },
  "language_info": {
   "codemirror_mode": {
    "name": "ipython",
    "version": 3
   },
   "file_extension": ".py",
   "mimetype": "text/x-python",
   "name": "python",
   "nbconvert_exporter": "python",
   "pygments_lexer": "ipython3",
   "version": "3.9.7"
  }
 },
 "nbformat": 4,
 "nbformat_minor": 5
}
