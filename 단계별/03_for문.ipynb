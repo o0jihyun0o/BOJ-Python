{
 "cells": [
  {
   "cell_type": "markdown",
   "id": "49ac0a9e-2773-4b01-a6ea-23625a9b29a9",
   "metadata": {},
   "source": [
    "# 구구단 (2739)"
   ]
  },
  {
   "cell_type": "code",
   "execution_count": 6,
   "id": "5f5fca7f-a080-4be3-aaee-60164835d27a",
   "metadata": {},
   "outputs": [
    {
     "name": "stdin",
     "output_type": "stream",
     "text": [
      " 2\n"
     ]
    },
    {
     "name": "stdout",
     "output_type": "stream",
     "text": [
      "2 * 1 = 2\n",
      "2 * 2 = 4\n",
      "2 * 3 = 6\n",
      "2 * 4 = 8\n",
      "2 * 5 = 10\n",
      "2 * 6 = 12\n",
      "2 * 7 = 14\n",
      "2 * 8 = 16\n",
      "2 * 9 = 18\n"
     ]
    }
   ],
   "source": [
    "num = int(input())\n",
    "\n",
    "for x in range(1, 10):\n",
    "    print(\"%d * %d = %d\" %(num, x, num*x))"
   ]
  },
  {
   "cell_type": "markdown",
   "id": "b39ec758-922d-4522-b77c-c93d2262b56c",
   "metadata": {
    "tags": []
   },
   "source": [
    "# A+B - 3 (10950)"
   ]
  },
  {
   "cell_type": "code",
   "execution_count": 12,
   "id": "59fef675-13ac-4ad4-b4f4-41f9c05d9b02",
   "metadata": {
    "tags": []
   },
   "outputs": [
    {
     "name": "stdin",
     "output_type": "stream",
     "text": [
      " 5\n",
      " 1 1\n"
     ]
    },
    {
     "name": "stdout",
     "output_type": "stream",
     "text": [
      "2\n"
     ]
    },
    {
     "name": "stdin",
     "output_type": "stream",
     "text": [
      " 2 3\n"
     ]
    },
    {
     "name": "stdout",
     "output_type": "stream",
     "text": [
      "5\n"
     ]
    },
    {
     "name": "stdin",
     "output_type": "stream",
     "text": [
      " 3 4\n"
     ]
    },
    {
     "name": "stdout",
     "output_type": "stream",
     "text": [
      "7\n"
     ]
    },
    {
     "name": "stdin",
     "output_type": "stream",
     "text": [
      " 9 8\n"
     ]
    },
    {
     "name": "stdout",
     "output_type": "stream",
     "text": [
      "17\n"
     ]
    },
    {
     "name": "stdin",
     "output_type": "stream",
     "text": [
      " 5 2\n"
     ]
    },
    {
     "name": "stdout",
     "output_type": "stream",
     "text": [
      "7\n"
     ]
    }
   ],
   "source": [
    "n = int(input())\n",
    "\n",
    "for i in range(n):\n",
    "    a, b = map(int, input().split())\n",
    "    print(a + b)"
   ]
  },
  {
   "cell_type": "markdown",
   "id": "63aad8d4-93a0-4b53-bb83-01e55af14d08",
   "metadata": {},
   "source": [
    "# 합 (8393)"
   ]
  },
  {
   "cell_type": "code",
   "execution_count": 14,
   "id": "71ebe5d5-1922-488d-a7ad-ec497bc2529e",
   "metadata": {
    "tags": []
   },
   "outputs": [
    {
     "name": "stdin",
     "output_type": "stream",
     "text": [
      " 3\n"
     ]
    },
    {
     "name": "stdout",
     "output_type": "stream",
     "text": [
      "6\n"
     ]
    }
   ],
   "source": [
    "n = int(input())\n",
    "sum = 0\n",
    "\n",
    "for i in range(1, n + 1):\n",
    "    sum += i\n",
    "print(sum)\n",
    "    "
   ]
  },
  {
   "cell_type": "markdown",
   "id": "5c94b111-fc54-4937-b3ef-a7aba3bcf5e6",
   "metadata": {},
   "source": [
    "# 빠른 A+B (15552)"
   ]
  },
  {
   "cell_type": "markdown",
   "id": "b6103ab4-b306-4cc0-a36e-42f5961b208c",
   "metadata": {
    "tags": []
   },
   "source": [
    "## sys.stdin.readline() 으로 빠른 입력 받기!"
   ]
  },
  {
   "cell_type": "code",
   "execution_count": 34,
   "id": "dd877729-139e-40b7-be1d-95865081211e",
   "metadata": {},
   "outputs": [
    {
     "name": "stdin",
     "output_type": "stream",
     "text": [
      " 1\n",
      " 2 3\n"
     ]
    },
    {
     "name": "stdout",
     "output_type": "stream",
     "text": [
      "5\n"
     ]
    }
   ],
   "source": [
    "# input만을 사용한 풀이!\n",
    "## 제한 시간인 1초를 지키기에는 너무 느리다!!\n",
    "\n",
    "t = int(input())\n",
    "\n",
    "for i in range(t):\n",
    "    a, b = map(int, input().split())\n",
    "    print(a + b)\n"
   ]
  },
  {
   "cell_type": "code",
   "execution_count": 41,
   "id": "ca4f09b2-8b90-45ba-9e97-8e4726e971bc",
   "metadata": {},
   "outputs": [
    {
     "name": "stdin",
     "output_type": "stream",
     "text": [
      " 5\n"
     ]
    },
    {
     "ename": "ValueError",
     "evalue": "not enough values to unpack (expected 2, got 0)",
     "output_type": "error",
     "traceback": [
      "\u001b[1;31m---------------------------------------------------------------------------\u001b[0m",
      "\u001b[1;31mValueError\u001b[0m                                Traceback (most recent call last)",
      "\u001b[1;32m~\\AppData\\Local\\Temp/ipykernel_3204/325966679.py\u001b[0m in \u001b[0;36m<module>\u001b[1;34m\u001b[0m\n\u001b[0;32m      7\u001b[0m \u001b[1;33m\u001b[0m\u001b[0m\n\u001b[0;32m      8\u001b[0m \u001b[1;32mfor\u001b[0m \u001b[0mi\u001b[0m \u001b[1;32min\u001b[0m \u001b[0mrange\u001b[0m\u001b[1;33m(\u001b[0m\u001b[0mt\u001b[0m\u001b[1;33m)\u001b[0m\u001b[1;33m:\u001b[0m\u001b[1;33m\u001b[0m\u001b[1;33m\u001b[0m\u001b[0m\n\u001b[1;32m----> 9\u001b[1;33m     \u001b[0ma\u001b[0m\u001b[1;33m,\u001b[0m \u001b[0mb\u001b[0m \u001b[1;33m=\u001b[0m \u001b[0mmap\u001b[0m\u001b[1;33m(\u001b[0m\u001b[0mint\u001b[0m\u001b[1;33m,\u001b[0m \u001b[0msys\u001b[0m\u001b[1;33m.\u001b[0m\u001b[0mstdin\u001b[0m\u001b[1;33m.\u001b[0m\u001b[0mreadline\u001b[0m\u001b[1;33m(\u001b[0m\u001b[1;33m)\u001b[0m\u001b[1;33m.\u001b[0m\u001b[0msplit\u001b[0m\u001b[1;33m(\u001b[0m\u001b[1;33m)\u001b[0m\u001b[1;33m)\u001b[0m\u001b[1;33m\u001b[0m\u001b[1;33m\u001b[0m\u001b[0m\n\u001b[0m\u001b[0;32m     10\u001b[0m     \u001b[0mprint\u001b[0m\u001b[1;33m(\u001b[0m\u001b[0ma\u001b[0m \u001b[1;33m+\u001b[0m \u001b[0mb\u001b[0m\u001b[1;33m)\u001b[0m\u001b[1;33m\u001b[0m\u001b[1;33m\u001b[0m\u001b[0m\n",
      "\u001b[1;31mValueError\u001b[0m: not enough values to unpack (expected 2, got 0)"
     ]
    }
   ],
   "source": [
    "# sys.stdin.readline()을 사용하면 더 빠르지만 주피터랩에서는 오류가 난다...\n",
    "# sys.stdin.readline()자체를 실행시키지 못하는 것 같다!\n",
    "\n",
    "import sys\n",
    "\n",
    "t = int(input())\n",
    "\n",
    "for i in range(t):\n",
    "    a, b = map(int, sys.stdin.readline().split())\n",
    "    print(a + b)"
   ]
  },
  {
   "cell_type": "markdown",
   "id": "bbf2ca49-acfc-498f-9747-f21334fb5e3d",
   "metadata": {},
   "source": [
    "# N 찍기 (2741)"
   ]
  },
  {
   "cell_type": "code",
   "execution_count": 43,
   "id": "d7d996d5-2dfe-47e1-a743-c336ddb00d0d",
   "metadata": {
    "tags": []
   },
   "outputs": [
    {
     "name": "stdin",
     "output_type": "stream",
     "text": [
      " 5\n"
     ]
    },
    {
     "name": "stdout",
     "output_type": "stream",
     "text": [
      "1\n",
      "2\n",
      "3\n",
      "4\n",
      "5\n"
     ]
    }
   ],
   "source": [
    "n = int(input())\n",
    "\n",
    "for i in range(1, n+1):\n",
    "    print(i)"
   ]
  },
  {
   "cell_type": "markdown",
   "id": "32502a0d-52df-4ce7-8e9e-f60b88119d47",
   "metadata": {
    "tags": []
   },
   "source": [
    "# 기찍 N (2742)"
   ]
  },
  {
   "cell_type": "code",
   "execution_count": 46,
   "id": "79952137-7fee-4232-baad-f50254136d9b",
   "metadata": {
    "tags": []
   },
   "outputs": [
    {
     "name": "stdin",
     "output_type": "stream",
     "text": [
      " 5\n"
     ]
    },
    {
     "name": "stdout",
     "output_type": "stream",
     "text": [
      "5\n",
      "4\n",
      "3\n",
      "2\n",
      "1\n"
     ]
    }
   ],
   "source": [
    "# range 함수 인자를 사용하여 역순으로 출력하기!\n",
    "\n",
    "n = int(input())\n",
    "\n",
    "for i in range(n, 0, -1):\n",
    "    print(i)"
   ]
  },
  {
   "cell_type": "markdown",
   "id": "1a3ae2ca-180d-4438-8caf-66a4e7cb27fe",
   "metadata": {},
   "source": [
    "# A+B - 7 (11021)"
   ]
  },
  {
   "cell_type": "code",
   "execution_count": 48,
   "id": "1cbac42e-1133-4614-a292-cb97d5565669",
   "metadata": {
    "tags": []
   },
   "outputs": [
    {
     "name": "stdin",
     "output_type": "stream",
     "text": [
      " 5\n",
      " 1 1\n"
     ]
    },
    {
     "name": "stdout",
     "output_type": "stream",
     "text": [
      "Case #1: 2\n"
     ]
    },
    {
     "name": "stdin",
     "output_type": "stream",
     "text": [
      " 2 3\n"
     ]
    },
    {
     "name": "stdout",
     "output_type": "stream",
     "text": [
      "Case #2: 5\n"
     ]
    },
    {
     "name": "stdin",
     "output_type": "stream",
     "text": [
      " 3 4\n"
     ]
    },
    {
     "name": "stdout",
     "output_type": "stream",
     "text": [
      "Case #3: 7\n"
     ]
    },
    {
     "name": "stdin",
     "output_type": "stream",
     "text": [
      " 9 8\n"
     ]
    },
    {
     "name": "stdout",
     "output_type": "stream",
     "text": [
      "Case #4: 17\n"
     ]
    },
    {
     "name": "stdin",
     "output_type": "stream",
     "text": [
      " 5 2\n"
     ]
    },
    {
     "name": "stdout",
     "output_type": "stream",
     "text": [
      "Case #5: 7\n"
     ]
    }
   ],
   "source": [
    "t = int(input())\n",
    "\n",
    "for i in range(1, t+1):\n",
    "    a, b = map(int, input().split())\n",
    "    print(\"Case #%d: %d\" %(i, a+b))"
   ]
  },
  {
   "cell_type": "markdown",
   "id": "abcfcdd0-84b5-4a82-bfdc-24e0341b2d26",
   "metadata": {},
   "source": [
    "# A+B - 8 (11022)"
   ]
  },
  {
   "cell_type": "code",
   "execution_count": 50,
   "id": "ea93b887-ac10-4d1d-9cc6-848cc337b6a4",
   "metadata": {
    "tags": []
   },
   "outputs": [
    {
     "name": "stdin",
     "output_type": "stream",
     "text": [
      " 5\n",
      " 1 1\n"
     ]
    },
    {
     "name": "stdout",
     "output_type": "stream",
     "text": [
      "Case #1: 1 + 1 = 2\n"
     ]
    },
    {
     "name": "stdin",
     "output_type": "stream",
     "text": [
      " 2 3\n"
     ]
    },
    {
     "name": "stdout",
     "output_type": "stream",
     "text": [
      "Case #2: 2 + 3 = 5\n"
     ]
    },
    {
     "name": "stdin",
     "output_type": "stream",
     "text": [
      " 3 4\n"
     ]
    },
    {
     "name": "stdout",
     "output_type": "stream",
     "text": [
      "Case #3: 3 + 4 = 7\n"
     ]
    },
    {
     "name": "stdin",
     "output_type": "stream",
     "text": [
      " 9 8\n"
     ]
    },
    {
     "name": "stdout",
     "output_type": "stream",
     "text": [
      "Case #4: 9 + 8 = 17\n"
     ]
    },
    {
     "name": "stdin",
     "output_type": "stream",
     "text": [
      " 5 2\n"
     ]
    },
    {
     "name": "stdout",
     "output_type": "stream",
     "text": [
      "Case #5: 5 + 2 = 7\n"
     ]
    }
   ],
   "source": [
    "t = int(input())\n",
    "\n",
    "for i in range(1, t+1):\n",
    "    a, b = map(int, input().split())\n",
    "    print(\"Case #%d: %d + %d = %d\" %(i, a, b, a+b))"
   ]
  },
  {
   "cell_type": "markdown",
   "id": "33ca5858-bc27-4931-a023-b0a95f0fb66e",
   "metadata": {},
   "source": [
    "# 별 찍기 - 1 (2438)"
   ]
  },
  {
   "cell_type": "code",
   "execution_count": 54,
   "id": "08849867-8711-477c-b729-37475d7a10db",
   "metadata": {
    "tags": []
   },
   "outputs": [
    {
     "name": "stdin",
     "output_type": "stream",
     "text": [
      " 5\n"
     ]
    },
    {
     "name": "stdout",
     "output_type": "stream",
     "text": [
      "*\n",
      "**\n",
      "***\n",
      "****\n",
      "*****\n"
     ]
    }
   ],
   "source": [
    "n = int(input())\n",
    "\n",
    "for i in range(1, n+1):\n",
    "    for p in range(i):\n",
    "        print(\"*\", end=\"\")\n",
    "    print()"
   ]
  },
  {
   "cell_type": "markdown",
   "id": "de5f94be-aea6-4255-9825-ccdc3575d05b",
   "metadata": {
    "tags": []
   },
   "source": [
    "# 별 찍기 - 2 (2439)"
   ]
  },
  {
   "cell_type": "code",
   "execution_count": 67,
   "id": "2775cf45-349c-41d7-98c1-07dedef52cdd",
   "metadata": {
    "tags": []
   },
   "outputs": [
    {
     "name": "stdin",
     "output_type": "stream",
     "text": [
      " 5\n"
     ]
    },
    {
     "name": "stdout",
     "output_type": "stream",
     "text": [
      "    *\n",
      "   **\n",
      "  ***\n",
      " ****\n",
      "*****\n"
     ]
    }
   ],
   "source": [
    "# print 함수 안에 여러 자료형을 넣을 때 출력시 띄어쓰기 생각하자...\n",
    "\n",
    "n = int(input())\n",
    "\n",
    "for i in range(1, n+1):\n",
    "    print(\" \" * (n - i), \"*\" * (i), sep=\"\")"
   ]
  },
  {
   "cell_type": "markdown",
   "id": "6e56ecbc-1d56-4fd3-9dd5-d77a9af67355",
   "metadata": {},
   "source": [
    "# X보다 작은 수 (10871)"
   ]
  },
  {
   "cell_type": "code",
   "execution_count": 75,
   "id": "e20459f2-4912-471c-8904-8dfd84735bea",
   "metadata": {},
   "outputs": [
    {
     "name": "stdin",
     "output_type": "stream",
     "text": [
      " 10 5\n",
      " 1 10 4 9 2 3 8 5 7 6\n"
     ]
    },
    {
     "name": "stdout",
     "output_type": "stream",
     "text": [
      "1 4 2 3 "
     ]
    }
   ],
   "source": [
    "n, x = map(int, input().split())\n",
    "L = [int(y) for y in input().split()]\n",
    "# 혹은 L = list(map(int, input().split()))\n",
    "\n",
    "for i in L:\n",
    "    if i < x:\n",
    "        print(i, end=\" \")"
   ]
  },
  {
   "cell_type": "code",
   "execution_count": 78,
   "id": "dc6e2e40-b913-4031-ba20-5f539c9264b0",
   "metadata": {},
   "outputs": [
    {
     "name": "stdin",
     "output_type": "stream",
     "text": [
      " 10 5\n",
      " 1 10 4 9 2 3 8 5 7 6\n"
     ]
    },
    {
     "name": "stdout",
     "output_type": "stream",
     "text": [
      "1 4 2 3 "
     ]
    }
   ],
   "source": [
    "# 윗 풀이도 맞았지만 n의 존재 이유를 생각해보면 다음의 풀이도 가능하다!\n",
    "\n",
    "n, x = map(int, input().split())\n",
    "L = [int(y) for y in input().split()]\n",
    "# 혹은 L = list(map(int, input().split()))\n",
    "\n",
    "for i in range(n):\n",
    "    if L[i] < x:\n",
    "        print(L[i], end=\" \")"
   ]
  }
 ],
 "metadata": {
  "kernelspec": {
   "display_name": "Python 3 (ipykernel)",
   "language": "python",
   "name": "python3"
  },
  "language_info": {
   "codemirror_mode": {
    "name": "ipython",
    "version": 3
   },
   "file_extension": ".py",
   "mimetype": "text/x-python",
   "name": "python",
   "nbconvert_exporter": "python",
   "pygments_lexer": "ipython3",
   "version": "3.9.7"
  }
 },
 "nbformat": 4,
 "nbformat_minor": 5
}
