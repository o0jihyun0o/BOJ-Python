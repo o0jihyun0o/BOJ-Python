{
 "cells": [
  {
   "cell_type": "markdown",
   "id": "624de314-8692-43b6-96e6-3a11c9b8348b",
   "metadata": {
    "tags": []
   },
   "source": [
    "# 고양이 (10171)\n",
    "## 줄바꿈"
   ]
  },
  {
   "cell_type": "code",
   "execution_count": 23,
   "id": "d0ebad4f-d998-4c44-8e9f-8a39717f7743",
   "metadata": {},
   "outputs": [
    {
     "name": "stdout",
     "output_type": "stream",
     "text": [
      "\\    /\\\n",
      " )  ( ')\n",
      "(  /  )\n",
      " \\(__)|\n"
     ]
    }
   ],
   "source": [
    "# 문자인 \\을 입력하려면 \\\\ 입력하기!\n",
    "\n",
    "print(\"\\    /\\\\\\n )  ( ')\\n(  /  )\\n \\(__)|\")"
   ]
  },
  {
   "cell_type": "code",
   "execution_count": 22,
   "id": "3068f4f1-dce7-4af7-9d6b-70d1f0b44448",
   "metadata": {
    "tags": []
   },
   "outputs": [
    {
     "name": "stdout",
     "output_type": "stream",
     "text": [
      "\\    /\\\n",
      " )  ( ')\n",
      "(  /  )\n",
      " \\(__)|\n"
     ]
    }
   ],
   "source": [
    "# 문자인 \\를 입력하려면 \\\\ 입력하기!\n",
    "\n",
    "print(\"\"\"\\    /\\\\\n",
    " )  ( ')\n",
    "(  /  )\n",
    " \\(__)|\"\"\")"
   ]
  },
  {
   "cell_type": "markdown",
   "id": "83132737-433e-4322-af54-46e05e4b2dc9",
   "metadata": {},
   "source": [
    "# 개 (10172)\n",
    "## 줄바꿈"
   ]
  },
  {
   "cell_type": "code",
   "execution_count": 26,
   "id": "5b47d18e-2e82-4a48-8f9e-56fadd98a19a",
   "metadata": {},
   "outputs": [
    {
     "name": "stdout",
     "output_type": "stream",
     "text": [
      "|\\_/|\n",
      "|q p|   /}\n",
      "( 0 )\"\"\"\\\n",
      "|\"^\"`    |\n",
      "||_/=\\\\__|\n"
     ]
    }
   ],
   "source": [
    "# 표시해야 하는 내용에 \"\"\"가 있으니까 문자열을 '''로 바꿔서 묶어줌!\n",
    "# 문자인 \\입력할 때 꼭 하나 더 입력해주기!!\n",
    "\n",
    "print('''|\\_/|\n",
    "|q p|   /}\n",
    "( 0 )\"\"\"\\\\\n",
    "|\"^\"`    |\n",
    "||_/=\\\\\\__|''')"
   ]
  },
  {
   "cell_type": "markdown",
   "id": "9d9037d9-a562-4c27-a0d2-ad4ec868bb51",
   "metadata": {},
   "source": [
    "# A+B (1000)\n",
    "## input, split"
   ]
  },
  {
   "cell_type": "code",
   "execution_count": null,
   "id": "e248281c-3d89-49c8-9fa4-30d2f0eda3f9",
   "metadata": {
    "tags": []
   },
   "outputs": [],
   "source": [
    "# input과 .split() 사용하기!\n",
    "\n",
    "a, b = input().split()\n",
    "a = int(a)\n",
    "b = int(b)\n",
    "print(a+b)"
   ]
  },
  {
   "cell_type": "markdown",
   "id": "82ee1348-d46a-4ab6-ac20-97d8f2fd0c38",
   "metadata": {},
   "source": [
    "## map"
   ]
  },
  {
   "cell_type": "code",
   "execution_count": 31,
   "id": "8472fe07-4ea9-4347-8849-ce87efd3aece",
   "metadata": {
    "tags": []
   },
   "outputs": [
    {
     "name": "stdin",
     "output_type": "stream",
     "text": [
      " 1 2\n"
     ]
    },
    {
     "name": "stdout",
     "output_type": "stream",
     "text": [
      "3\n"
     ]
    }
   ],
   "source": [
    "# map(함수, 매개변수)\n",
    "# 매개변수로는 반복 가능한 자료형인 리스트/튜플 등이 온다!\n",
    "\n",
    "a, b = map(int, input().split())\n",
    "print(a+b)"
   ]
  },
  {
   "cell_type": "code",
   "execution_count": 33,
   "id": "3f8a8455-10c9-45de-86fb-95f9e9e5e9cd",
   "metadata": {},
   "outputs": [
    {
     "name": "stdout",
     "output_type": "stream",
     "text": [
      "1 <class 'str'>\n",
      "1 <class 'int'>\n"
     ]
    }
   ],
   "source": [
    "# map(함수, 매개변수)\n",
    "\n",
    "L1 = ['1','2','3','4','5']\n",
    "print(L[0], type(L[0]))\n",
    "\n",
    "L2 = list(map(int, L))\n",
    "print(L2[0], type(L2[0]))"
   ]
  },
  {
   "cell_type": "markdown",
   "id": "3d415475-9e1c-41a5-969d-bd2302ceead7",
   "metadata": {},
   "source": [
    "# A-B (1001)"
   ]
  },
  {
   "cell_type": "code",
   "execution_count": 37,
   "id": "0e988458-2e7d-4970-a6a3-57321b93110a",
   "metadata": {},
   "outputs": [
    {
     "name": "stdin",
     "output_type": "stream",
     "text": [
      " 1 9\n"
     ]
    },
    {
     "name": "stdout",
     "output_type": "stream",
     "text": [
      "-8\n"
     ]
    }
   ],
   "source": [
    "a, b = map(int, input().split())\n",
    "print(a-b)"
   ]
  },
  {
   "cell_type": "markdown",
   "id": "1fca44fe-09fe-485b-b44f-bbf4c70b7fc4",
   "metadata": {},
   "source": [
    "# A*B (10998)"
   ]
  },
  {
   "cell_type": "code",
   "execution_count": 38,
   "id": "9092e001-51df-4cdd-910f-d5f331a7dbf5",
   "metadata": {},
   "outputs": [
    {
     "name": "stdin",
     "output_type": "stream",
     "text": [
      " 2 6\n"
     ]
    },
    {
     "name": "stdout",
     "output_type": "stream",
     "text": [
      "12\n"
     ]
    }
   ],
   "source": [
    "a, b = map(int, input().split())\n",
    "print(a*b)"
   ]
  },
  {
   "cell_type": "markdown",
   "id": "f2f58ba4-b940-4907-a73b-f0b511d361b3",
   "metadata": {},
   "source": [
    "# A/B (1008)"
   ]
  },
  {
   "cell_type": "code",
   "execution_count": 41,
   "id": "2690197e-ed46-46fd-9335-b2659c1cb657",
   "metadata": {
    "tags": []
   },
   "outputs": [
    {
     "name": "stdin",
     "output_type": "stream",
     "text": [
      " 1 3\n"
     ]
    },
    {
     "name": "stdout",
     "output_type": "stream",
     "text": [
      "0.3333333333333333\n"
     ]
    }
   ],
   "source": [
    "a, b = map(int, input().split())\n",
    "print(a/b)"
   ]
  },
  {
   "cell_type": "markdown",
   "id": "7d0b2214-e592-4879-bda8-9d1b88ff9928",
   "metadata": {},
   "source": [
    "# 사칙연산 (10869)\n",
    "## 몫(//)과 나머지(%)\n",
    "## sep='\\n'을 사용한 줄바꿈"
   ]
  },
  {
   "cell_type": "code",
   "execution_count": 47,
   "id": "8e02a8e1-f048-4adf-b5e2-4bf8347ffeb3",
   "metadata": {},
   "outputs": [
    {
     "name": "stdin",
     "output_type": "stream",
     "text": [
      " 7 3\n"
     ]
    },
    {
     "name": "stdout",
     "output_type": "stream",
     "text": [
      "10\n",
      "4\n",
      "21\n",
      "2\n",
      "1\n"
     ]
    }
   ],
   "source": [
    "a, b = map(int, input().split())\n",
    "print(a+b, a-b, a*b, a//b, a%b, sep='\\n')"
   ]
  },
  {
   "cell_type": "markdown",
   "id": "fedb5e79-ef8f-4a06-b590-adbd994fd53c",
   "metadata": {
    "tags": []
   },
   "source": [
    "# ??! (10926)\n",
    "## 마음대로 조건을 추가하지 말자...!"
   ]
  },
  {
   "cell_type": "code",
   "execution_count": 53,
   "id": "0fe1f6f9-478c-40a9-b233-b56655ce38b5",
   "metadata": {},
   "outputs": [
    {
     "name": "stdin",
     "output_type": "stream",
     "text": [
      " voonas\n"
     ]
    }
   ],
   "source": [
    "# 처음에는 이렇게 풀었는데 틀렸다...\n",
    "# joonas가 아닌 다른 이름이어도 작동해야 하나 싶어서 아래 답으로 바꿨다...\n",
    "\n",
    "ID = ['joonas', 'loonas', 'coonas']\n",
    "name = input()\n",
    "if name in ID:\n",
    "    print(name+\"??!\")"
   ]
  },
  {
   "cell_type": "code",
   "execution_count": 54,
   "id": "63e74a11-25d7-4c6a-9b26-16c7c0fa7630",
   "metadata": {},
   "outputs": [
    {
     "name": "stdin",
     "output_type": "stream",
     "text": [
      " joonas\n"
     ]
    },
    {
     "name": "stdout",
     "output_type": "stream",
     "text": [
      "joonas??!\n"
     ]
    }
   ],
   "source": [
    "# 상황에는 안 맞지만 어떤 걸 넣어도 답이 나오게 만들었다!\n",
    "\n",
    "print(input()+\"??!\")"
   ]
  },
  {
   "cell_type": "markdown",
   "id": "c48024ae-3c18-49f4-9c9c-f68da757889c",
   "metadata": {},
   "source": [
    "# 1998년생인 내가 태국에서는 2541년생?! (18108)"
   ]
  },
  {
   "cell_type": "code",
   "execution_count": 56,
   "id": "8d1ce25c-6ede-4313-81e6-e0ab5735c03a",
   "metadata": {
    "tags": []
   },
   "outputs": [
    {
     "name": "stdin",
     "output_type": "stream",
     "text": [
      " 2541\n"
     ]
    },
    {
     "name": "stdout",
     "output_type": "stream",
     "text": [
      "1998\n"
     ]
    }
   ],
   "source": [
    "dif = 2541-1998\n",
    "y = int(input())\n",
    "print(y-dif)"
   ]
  },
  {
   "cell_type": "markdown",
   "id": "c79b9f5a-2f5b-4a59-91c1-5a25a90990cf",
   "metadata": {
    "tags": []
   },
   "source": [
    "# 나머지 (10430)"
   ]
  },
  {
   "cell_type": "code",
   "execution_count": 64,
   "id": "86932d3c-23bb-4a6c-be46-1d8ed23f5b86",
   "metadata": {
    "tags": []
   },
   "outputs": [
    {
     "name": "stdin",
     "output_type": "stream",
     "text": [
      " 5 8 4\n"
     ]
    },
    {
     "name": "stdout",
     "output_type": "stream",
     "text": [
      "1\n",
      "1\n",
      "0\n",
      "0\n"
     ]
    }
   ],
   "source": [
    "A, B, C = map(int, input().split())\n",
    "print((A+B)%C, ((A%C) + (B%C))%C, (A*B)%C, ((A%C) * (B%C))%C, sep='\\n')"
   ]
  },
  {
   "cell_type": "markdown",
   "id": "0f415c36-bdfa-461a-96f6-db676acadf3c",
   "metadata": {
    "tags": []
   },
   "source": [
    "# 곱셈 (2588)\n",
    "## 문자열 인덱싱"
   ]
  },
  {
   "cell_type": "code",
   "execution_count": 76,
   "id": "cdba00ba-bdeb-4845-a318-5078946355b1",
   "metadata": {},
   "outputs": [
    {
     "name": "stdin",
     "output_type": "stream",
     "text": [
      " 472\n",
      " 385\n"
     ]
    },
    {
     "name": "stdout",
     "output_type": "stream",
     "text": [
      "2360\n",
      "3776\n",
      "1416\n",
      "181720\n"
     ]
    }
   ],
   "source": [
    "# 문자열 b를 인덱싱하여 계산에 사용!\n",
    "\n",
    "a = int(input())\n",
    "b = input()\n",
    "\n",
    "n1 = a * int(b[2])\n",
    "n2 = a * int(b[1])\n",
    "n3 = a * int(b[0])\n",
    "\n",
    "result = n1 + (10 * n2) + (100 * n3)\n",
    "\n",
    "print(n1, n2, n3, result, sep='\\n')\n"
   ]
  }
 ],
 "metadata": {
  "kernelspec": {
   "display_name": "Python 3 (ipykernel)",
   "language": "python",
   "name": "python3"
  },
  "language_info": {
   "codemirror_mode": {
    "name": "ipython",
    "version": 3
   },
   "file_extension": ".py",
   "mimetype": "text/x-python",
   "name": "python",
   "nbconvert_exporter": "python",
   "pygments_lexer": "ipython3",
   "version": "3.9.7"
  },
  "toc-autonumbering": true,
  "toc-showmarkdowntxt": false
 },
 "nbformat": 4,
 "nbformat_minor": 5
}
