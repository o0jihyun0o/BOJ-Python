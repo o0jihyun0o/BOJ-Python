{
 "cells": [
  {
   "cell_type": "markdown",
   "id": "5e7706f5-41c9-4b20-af34-a6d59ab65ef4",
   "metadata": {},
   "source": [
    "# 단어의 개수 (1152)"
   ]
  },
  {
   "cell_type": "code",
   "execution_count": 8,
   "id": "d20a4164-3123-47e4-b975-066543e5fc8b",
   "metadata": {
    "tags": []
   },
   "outputs": [
    {
     "name": "stdin",
     "output_type": "stream",
     "text": [
      " The last character is a blank \n"
     ]
    },
    {
     "name": "stdout",
     "output_type": "stream",
     "text": [
      "6\n"
     ]
    }
   ],
   "source": [
    "sentence = [x for x in input().split(\" \") if x.isalpha()]\n",
    "print(len(sentence))"
   ]
  },
  {
   "cell_type": "markdown",
   "id": "d4bf1bb8-d67c-4d24-8027-e36ec661930b",
   "metadata": {
    "tags": []
   },
   "source": [
    "# 단어 공부 (1157)\n",
    "## get(x, y) 사용해서 dictionary 수정"
   ]
  },
  {
   "cell_type": "code",
   "execution_count": 50,
   "id": "652af307-45cf-4506-913e-d893b3443754",
   "metadata": {
    "tags": []
   },
   "outputs": [
    {
     "name": "stdin",
     "output_type": "stream",
     "text": [
      " baaa\n"
     ]
    },
    {
     "name": "stdout",
     "output_type": "stream",
     "text": [
      "A\n"
     ]
    }
   ],
   "source": [
    "D = dict()\n",
    "\n",
    "for i in str(input()):\n",
    "    D[i.lower()] = D.get(i.lower(), 0) + 1  #get(key, 없을 시 반환값) --> 반환값 지정 안 하면 None을 반환함 = 0\n",
    "\n",
    "how_much = 0 \n",
    "keys = list(D.keys())\n",
    "values = list(D.values())\n",
    "\n",
    "for i in range(len(keys)):\n",
    "    if how_much < values[i]:\n",
    "        L = [keys[i]]\n",
    "        how_much = values[i]\n",
    "    elif how_much == values[i]:\n",
    "        L.append(keys[i])\n",
    "\n",
    "if len(L) == 1:\n",
    "    print(L[0].upper())\n",
    "else:\n",
    "    print('?')"
   ]
  },
  {
   "cell_type": "markdown",
   "id": "def172c0-1601-4f08-9840-4f55ed90efa7",
   "metadata": {},
   "source": [
    "## 하지만 set, count(x), index(x)를 이용한 더 좋은 방법이 있었다..."
   ]
  },
  {
   "cell_type": "code",
   "execution_count": 61,
   "id": "2ab14809-b8ef-4041-a087-7d268ce37888",
   "metadata": {},
   "outputs": [
    {
     "name": "stdin",
     "output_type": "stream",
     "text": [
      " rabbit\n"
     ]
    },
    {
     "name": "stdout",
     "output_type": "stream",
     "text": [
      "B\n"
     ]
    }
   ],
   "source": [
    "word = input().lower()\n",
    "unique_word = list(set(word))\n",
    "\n",
    "used_list = []\n",
    "for i in unique_word:\n",
    "    used = word.count(i) ##count(x)는 리스트 안에 x가 몇 개 있는지 조사하여 반환!\n",
    "    used_list.append(used)\n",
    "\n",
    "if used_list.count(max(used_list)) >= 2:\n",
    "    print(\"?\")\n",
    "else:\n",
    "    print(unique_word[used_list.index(max(used_list))].upper())"
   ]
  },
  {
   "cell_type": "markdown",
   "id": "81947a7b-57d3-40de-af03-e212efb333e4",
   "metadata": {},
   "source": [
    "# 두 수 비교하기 (1330)"
   ]
  },
  {
   "cell_type": "code",
   "execution_count": 64,
   "id": "561caf67-8f02-4739-be08-b0daa9088746",
   "metadata": {
    "tags": []
   },
   "outputs": [
    {
     "name": "stdin",
     "output_type": "stream",
     "text": [
      " 5 5\n"
     ]
    },
    {
     "name": "stdout",
     "output_type": "stream",
     "text": [
      "==\n"
     ]
    }
   ],
   "source": [
    "a, b = map(int, input().split())\n",
    "\n",
    "if a > b:\n",
    "    print(\">\")\n",
    "elif a < b:\n",
    "    print(\"<\")\n",
    "else:\n",
    "    print(\"==\")"
   ]
  },
  {
   "cell_type": "markdown",
   "id": "e6bf6fa7-b6ec-4c99-83d6-b8b15614dc52",
   "metadata": {},
   "source": [
    "# 평균 (1546)\n",
    "## sum()을 사용하여 리스트 원소의 합 구하기!"
   ]
  },
  {
   "cell_type": "code",
   "execution_count": 90,
   "id": "b79274ff-d4aa-4da9-b055-08ea54cf7a2e",
   "metadata": {},
   "outputs": [
    {
     "name": "stdin",
     "output_type": "stream",
     "text": [
      " 3\n",
      " 10 20 30\n"
     ]
    },
    {
     "name": "stdout",
     "output_type": "stream",
     "text": [
      "66.66666666666667\n"
     ]
    }
   ],
   "source": [
    "n = int(input())\n",
    "grade = [int(x) for x in input().split()]\n",
    "\n",
    "new_grade = []\n",
    "highest_grade = max(grade)\n",
    "\n",
    "\n",
    "for i in range(n):\n",
    "    new_grade.append(grade[i] / highest_grade * 100)\n",
    "\n",
    "average = sum(new_grade) / n\n",
    "print(average)"
   ]
  },
  {
   "cell_type": "markdown",
   "id": "3057ddeb-c1ab-4f1f-8fd2-a4425eceaa3f",
   "metadata": {},
   "source": [
    "## numpy 모듈의 mean함수 사용하기!"
   ]
  },
  {
   "cell_type": "code",
   "execution_count": 91,
   "id": "91416b9c-ed94-41fb-bb71-947a255cba53",
   "metadata": {},
   "outputs": [
    {
     "name": "stdout",
     "output_type": "stream",
     "text": [
      "66.66666666666667\n"
     ]
    }
   ],
   "source": [
    "import numpy\n",
    "\n",
    "avr = numpy.mean(new_grade)\n",
    "\n",
    "print(avr)"
   ]
  },
  {
   "cell_type": "markdown",
   "id": "13bc8f2e-4ffc-4681-ab6e-52cae053c249",
   "metadata": {},
   "source": [
    "## statistics 라이브러리의 mean함수 사용하기!"
   ]
  },
  {
   "cell_type": "code",
   "execution_count": 92,
   "id": "fbe03a3c-3b1e-4415-bd70-c86b1ee7c17a",
   "metadata": {},
   "outputs": [
    {
     "name": "stdout",
     "output_type": "stream",
     "text": [
      "66.66666666666666\n"
     ]
    }
   ],
   "source": [
    "# numpy 에러 떄문에 결국 이 방법을 사용해서 제출했다\n",
    "\n",
    "import statistics\n",
    "\n",
    "avr2 = statistics.mean(new_grade)\n",
    "\n",
    "print(avr2)"
   ]
  },
  {
   "cell_type": "markdown",
   "id": "542b5fbb-a5b0-4c8b-a808-16396fdd2c02",
   "metadata": {},
   "source": [
    "## 이렇게 제출했더니 런타임 에러가 났다...\n",
    "### BOJ에서는 Python의 외부 라이브러리를 사용할 수 없다고 한다..."
   ]
  },
  {
   "cell_type": "code",
   "execution_count": 89,
   "id": "1c84bba2-c681-4cf8-94d9-49cf40787524",
   "metadata": {},
   "outputs": [
    {
     "name": "stdin",
     "output_type": "stream",
     "text": [
      " 3\n",
      " 10 20 30\n"
     ]
    },
    {
     "name": "stdout",
     "output_type": "stream",
     "text": [
      "66.66666666666667\n"
     ]
    }
   ],
   "source": [
    "# 백준에서는 ModuleNotFoundError가 났지만 그래도 맞는 코드이다!!\n",
    "\n",
    "import numpy\n",
    "\n",
    "n = int(input())\n",
    "grade = [int(x) for x in input().split()]\n",
    "\n",
    "new_grade = []\n",
    "highest_grade = max(grade)\n",
    "\n",
    "for i in range(n):\n",
    "    new_grade.append(grade[i] / highest_grade * 100)\n",
    "\n",
    "average = numpy.mean(new_grade)\n",
    "print(average)"
   ]
  },
  {
   "cell_type": "markdown",
   "id": "a593e550-9d71-486e-8295-a86b74f31b76",
   "metadata": {},
   "source": [
    "## 알고 보니 엄청 쉬운 문제였다..."
   ]
  },
  {
   "cell_type": "code",
   "execution_count": 1,
   "id": "e66ad04f-efab-4d87-8523-340382f43fcb",
   "metadata": {},
   "outputs": [
    {
     "name": "stdin",
     "output_type": "stream",
     "text": [
      " 3\n",
      " 10 20 30\n"
     ]
    },
    {
     "name": "stdout",
     "output_type": "stream",
     "text": [
      "66.66666666666666\n"
     ]
    }
   ],
   "source": [
    "input()\n",
    "\n",
    "grades = list(map(int, input().split()))\n",
    "print(sum(grades) / max(grades) / len(grades) * 100)"
   ]
  },
  {
   "cell_type": "markdown",
   "id": "1c1711f9-2b12-4b1c-a42d-f33df96b047b",
   "metadata": {},
   "source": [
    "# 검증수 (2475)"
   ]
  },
  {
   "cell_type": "code",
   "execution_count": 93,
   "id": "eb0e8998-48a6-433a-a8d2-2d6ddf976e7d",
   "metadata": {},
   "outputs": [
    {
     "name": "stdin",
     "output_type": "stream",
     "text": [
      " 0 4 2 5 6\n"
     ]
    },
    {
     "name": "stdout",
     "output_type": "stream",
     "text": [
      "1\n"
     ]
    }
   ],
   "source": [
    "a, b, c, d, e = map(int, input().split())\n",
    "num = (a*a + b*b + c*c + d*d + e*e) % 10\n",
    "print(num)"
   ]
  },
  {
   "cell_type": "markdown",
   "id": "296c9b98-e50b-4887-b702-11923784e370",
   "metadata": {},
   "source": [
    "# 최댓값 (2562)"
   ]
  },
  {
   "cell_type": "code",
   "execution_count": 105,
   "id": "be071853-02ab-4da6-8c72-be0aff4b6b0d",
   "metadata": {},
   "outputs": [
    {
     "name": "stdin",
     "output_type": "stream",
     "text": [
      " 3\n",
      " 29\n",
      " 38\n",
      " 12\n",
      " 57\n",
      " 74\n",
      " 40\n",
      " 85\n",
      " 61\n"
     ]
    },
    {
     "name": "stdout",
     "output_type": "stream",
     "text": [
      "85\n",
      "8\n"
     ]
    }
   ],
   "source": [
    "nums = []\n",
    "\n",
    "for i in range(9):\n",
    "    nums.append(int(input()))\n",
    "                \n",
    "max_num = max(nums)\n",
    "max_place = nums.index(max(nums)) + 1\n",
    "print(max_num, max_place, sep=\"\\n\")"
   ]
  },
  {
   "cell_type": "markdown",
   "id": "55ecc447-c995-42ab-9d9b-a7d3cf8df58d",
   "metadata": {},
   "source": [
    "# 숫자의 개수 (2577)\n",
    "## 문자열에 count() 사용하기!"
   ]
  },
  {
   "cell_type": "code",
   "execution_count": 110,
   "id": "c2efadd8-24d3-499b-89f6-1183840c49f9",
   "metadata": {},
   "outputs": [
    {
     "name": "stdin",
     "output_type": "stream",
     "text": [
      " 150\n",
      " 266\n",
      " 427\n"
     ]
    },
    {
     "name": "stdout",
     "output_type": "stream",
     "text": [
      "3\n",
      "1\n",
      "0\n",
      "2\n",
      "0\n",
      "0\n",
      "0\n",
      "2\n",
      "0\n",
      "0\n"
     ]
    }
   ],
   "source": [
    "a = int(input())\n",
    "b = int(input())\n",
    "c = int(input())\n",
    "\n",
    "abc = a * b * c\n",
    "count_list = []\n",
    "\n",
    "for i in range(10):    ## 0에서부터 9까지의 숫자니까!\n",
    "    count = str(abc).count(str(i))\n",
    "    count_list.append(count)\n",
    "\n",
    "for i in count_list:\n",
    "    print(i)"
   ]
  },
  {
   "cell_type": "markdown",
   "id": "71f98428-dd7f-4f9f-88e2-23680af00220",
   "metadata": {},
   "source": [
    "# 문자열 반복 (2675)\n",
    "## 일단 장렬한 실패..."
   ]
  },
  {
   "cell_type": "code",
   "execution_count": 131,
   "id": "85832c3c-29f0-4f88-812c-3ae032047078",
   "metadata": {
    "tags": []
   },
   "outputs": [
    {
     "name": "stdin",
     "output_type": "stream",
     "text": [
      " 2\n",
      " 3 abc\n",
      " 5 /htp\n"
     ]
    },
    {
     "name": "stdout",
     "output_type": "stream",
     "text": [
      "aaabbbccc\n",
      "/////hhhhhtttttppppp\n"
     ]
    }
   ],
   "source": [
    "# 코드는 잘 돌아가지만 너무 복잡한데다가 문제가 원하는 방향도 아니었다!\n",
    "## 하나씩 입력받아서 하나씩 결과를 내는 문제였는데 나는 입력도 출력도 한꺼번에 처리했다...\n",
    "\n",
    "t = int(input())\n",
    "\n",
    "how = dict()\n",
    "\n",
    "for i in range(t):\n",
    "    a, b = input().split()\n",
    "    how[b] = int(a)\n",
    "\n",
    "keys = list(how.keys())\n",
    "vals = list(how.values())\n",
    "\n",
    "for i in range(len(keys)):\n",
    "    for x in range(len(keys[i])):\n",
    "        print(keys[i][x] * vals[i], end=\"\")\n",
    "    print()"
   ]
  },
  {
   "cell_type": "markdown",
   "id": "6965a23b-1ae1-44c4-be39-0e11dbbc1ae2",
   "metadata": {},
   "source": [
    "## 훨씬 간단한 방법!"
   ]
  },
  {
   "cell_type": "code",
   "execution_count": 134,
   "id": "313724ae-2128-4458-825c-d8b1f974af14",
   "metadata": {},
   "outputs": [
    {
     "name": "stdin",
     "output_type": "stream",
     "text": [
      " 2\n",
      " 3 abc\n"
     ]
    },
    {
     "name": "stdout",
     "output_type": "stream",
     "text": [
      "aaabbbccc\n"
     ]
    },
    {
     "name": "stdin",
     "output_type": "stream",
     "text": [
      " 5 /dif\n"
     ]
    },
    {
     "name": "stdout",
     "output_type": "stream",
     "text": [
      "/////dddddiiiiifffff\n"
     ]
    }
   ],
   "source": [
    "t = int(input())\n",
    "\n",
    "for i in range(t):\n",
    "    num, word = input().split()\n",
    "    for x in word:\n",
    "        print(x * int(num), end=\"\")\n",
    "    print()                            ###얘를 안 넣으면 틀렸다고 한다!!"
   ]
  },
  {
   "cell_type": "markdown",
   "id": "9e112333-4264-4f8c-b6eb-b069fa357379",
   "metadata": {},
   "source": [
    "# 윤년 (2753)"
   ]
  },
  {
   "cell_type": "code",
   "execution_count": 142,
   "id": "0b14ffe2-eb78-4bdb-ad52-ee89e62c4959",
   "metadata": {},
   "outputs": [
    {
     "name": "stdin",
     "output_type": "stream",
     "text": [
      " 1999\n"
     ]
    },
    {
     "name": "stdout",
     "output_type": "stream",
     "text": [
      "0\n"
     ]
    }
   ],
   "source": [
    "year = int(input())\n",
    "\n",
    "if year % 4 == 0 and year % 100 != 0 or year % 400 == 0:\n",
    "    print(1)\n",
    "else:\n",
    "    print(0)"
   ]
  },
  {
   "cell_type": "markdown",
   "id": "d83a9537-194c-44bd-8f9b-0a27fdf999f9",
   "metadata": {},
   "source": [
    "# 상수 (2908)"
   ]
  },
  {
   "cell_type": "markdown",
   "id": "094e6f7f-fdf7-411e-9294-202745314971",
   "metadata": {},
   "source": [
    "## 내 풀이!"
   ]
  },
  {
   "cell_type": "code",
   "execution_count": 34,
   "id": "975b267e-bb9c-4536-86cf-6914f9e41f6d",
   "metadata": {},
   "outputs": [
    {
     "name": "stdin",
     "output_type": "stream",
     "text": [
      " 839 237\n"
     ]
    },
    {
     "name": "stdout",
     "output_type": "stream",
     "text": [
      "938\n"
     ]
    }
   ],
   "source": [
    "# \"\".join(리스트명)\n",
    "# list(reversed(리스트명))\n",
    "# [*문자열] --> 문자열의 각 문자를 하나의 원소로 하는 리스트 생성\n",
    "\n",
    "a, b = input().split()\n",
    "A = int(\"\".join(list(reversed([*a]))))\n",
    "B = int(\"\".join(list(reversed([*b]))))\n",
    "new = [A, B]\n",
    "\n",
    "print(max(new))"
   ]
  },
  {
   "cell_type": "markdown",
   "id": "eebc8f7e-ae18-4433-a67e-dd72d6be5f5a",
   "metadata": {},
   "source": [
    "## 숏코딩에서 가장 짧았던 풀이!"
   ]
  },
  {
   "cell_type": "code",
   "execution_count": 69,
   "id": "088619fc-eac7-4b10-b2b9-a358344a17e0",
   "metadata": {},
   "outputs": [
    {
     "name": "stdin",
     "output_type": "stream",
     "text": [
      " 123 456\n"
     ]
    },
    {
     "name": "stdout",
     "output_type": "stream",
     "text": [
      "654\n"
     ]
    }
   ],
   "source": [
    "print(\n",
    "    max(\n",
    "        input()[::-1].split()\n",
    "    )\n",
    ")"
   ]
  },
  {
   "cell_type": "markdown",
   "id": "2f928903-016f-46a0-8dc8-ae7b2a711aeb",
   "metadata": {},
   "source": [
    "### input을 받으면서 바로 [::-1]을 사용해서 뒤집기"
   ]
  },
  {
   "cell_type": "code",
   "execution_count": 39,
   "id": "d6ca8230-39be-4e0c-8089-0bf014e3e488",
   "metadata": {},
   "outputs": [
    {
     "name": "stdin",
     "output_type": "stream",
     "text": [
      " 123 456\n"
     ]
    },
    {
     "data": {
      "text/plain": [
       "['654', '321']"
      ]
     },
     "execution_count": 39,
     "metadata": {},
     "output_type": "execute_result"
    }
   ],
   "source": [
    "input()[::-1].split()"
   ]
  },
  {
   "cell_type": "markdown",
   "id": "dc180165-c87c-4a39-acd0-f5641f6da4f0",
   "metadata": {},
   "source": [
    "### int로 바꾸지 않아도 max로 최댓값 찾을 수 있음!!"
   ]
  },
  {
   "cell_type": "code",
   "execution_count": 40,
   "id": "f2c2920d-9c4a-4602-bde2-e6dbaf5a8ce5",
   "metadata": {},
   "outputs": [
    {
     "name": "stdin",
     "output_type": "stream",
     "text": [
      " 123 456\n"
     ]
    },
    {
     "data": {
      "text/plain": [
       "'654'"
      ]
     },
     "execution_count": 40,
     "metadata": {},
     "output_type": "execute_result"
    }
   ],
   "source": [
    "max(input()[::-1].split())"
   ]
  },
  {
   "cell_type": "code",
   "execution_count": 41,
   "id": "2a5bbe45-68a3-4a2e-860c-f5e73f99c858",
   "metadata": {},
   "outputs": [
    {
     "name": "stdout",
     "output_type": "stream",
     "text": [
      "c\n"
     ]
    }
   ],
   "source": [
    "L = ['a', 'b', 'c']\n",
    "print(max(L))"
   ]
  },
  {
   "cell_type": "markdown",
   "id": "83f5d79e-fc21-4075-8f8b-807fb4c975cd",
   "metadata": {},
   "source": [
    "# 음계 (2920)"
   ]
  },
  {
   "cell_type": "markdown",
   "id": "edd1d950-6c5e-453c-a052-6c47c7dacc78",
   "metadata": {},
   "source": [
    "## 내 코드!"
   ]
  },
  {
   "cell_type": "code",
   "execution_count": 63,
   "id": "c663702d-6a93-4ee5-90e4-5752ec190c35",
   "metadata": {},
   "outputs": [
    {
     "name": "stdin",
     "output_type": "stream",
     "text": [
      " 1 2 3 4 5 6 7 8\n"
     ]
    },
    {
     "name": "stdout",
     "output_type": "stream",
     "text": [
      "ascending\n"
     ]
    }
   ],
   "source": [
    "Cmaj = [*'12345678']\n",
    "scale = input().split()\n",
    "\n",
    "if scale == Cmaj:\n",
    "    print(\"ascending\")\n",
    "elif list(reversed(scale)) == Cmaj:\n",
    "    print(\"descending\")\n",
    "else:\n",
    "    print(\"mixed\")"
   ]
  },
  {
   "cell_type": "markdown",
   "id": "9cb9a53a-2f40-4e81-a652-462497222932",
   "metadata": {
    "tags": []
   },
   "source": [
    "## sorted() 함수를 사용하는 방법!"
   ]
  },
  {
   "cell_type": "code",
   "execution_count": 68,
   "id": "ebddec84-f22a-458f-890f-f7908b64e6bf",
   "metadata": {},
   "outputs": [
    {
     "name": "stdin",
     "output_type": "stream",
     "text": [
      " 2 3 4 5 6 7 8 1\n"
     ]
    },
    {
     "name": "stdout",
     "output_type": "stream",
     "text": [
      "mixed\n"
     ]
    }
   ],
   "source": [
    "scale = list(map(int, input().split()))\n",
    "\n",
    "if scale == sorted(scale):\n",
    "    print(\"ascending\")\n",
    "elif scale == sorted(scale, reverse=True):\n",
    "    print(\"descending\")\n",
    "else:\n",
    "    print(\"mixed\")"
   ]
  },
  {
   "cell_type": "markdown",
   "id": "38248538-1ff9-44e8-a470-1a0cbd5bff28",
   "metadata": {},
   "source": [
    "## 숏코딩!"
   ]
  },
  {
   "cell_type": "code",
   "execution_count": 70,
   "id": "cc8fcd3e-caa5-4a89-bce4-1794942843bc",
   "metadata": {},
   "outputs": [
    {
     "name": "stdin",
     "output_type": "stream",
     "text": [
      " 1 2 3 4 5 6 7 8\n"
     ]
    },
    {
     "name": "stdout",
     "output_type": "stream",
     "text": [
      "ascending\n"
     ]
    }
   ],
   "source": [
    "print(\n",
    "    {'12345678': 'ascending', \n",
    "     '87654321': 'descending'}.get(input()[::2], 'mixed')\n",
    ")"
   ]
  },
  {
   "cell_type": "markdown",
   "id": "74bf54f1-835f-4473-b1a1-e88973316e10",
   "metadata": {},
   "source": [
    "# 나머지 (3052)"
   ]
  },
  {
   "cell_type": "markdown",
   "id": "2795606e-eb78-4133-b210-86cc83de3484",
   "metadata": {},
   "source": [
    "## 제출한 것!"
   ]
  },
  {
   "cell_type": "code",
   "execution_count": 74,
   "id": "22f9e4a2-d0fb-4f12-91a4-7f066d95cb47",
   "metadata": {
    "collapsed": true,
    "jupyter": {
     "outputs_hidden": true
    },
    "tags": []
   },
   "outputs": [
    {
     "name": "stdin",
     "output_type": "stream",
     "text": [
      " 39\n",
      " 40\n",
      " 41\n",
      " 42\n",
      " 43\n",
      " 44\n",
      " 82\n",
      " 83\n",
      " 84\n",
      " 85\n"
     ]
    },
    {
     "name": "stdout",
     "output_type": "stream",
     "text": [
      "6\n"
     ]
    }
   ],
   "source": [
    "nums = []\n",
    "\n",
    "for i in range(10):\n",
    "    n = int(input())\n",
    "    nums.append(n)\n",
    "\n",
    "remainder = list(map(lambda x: x % 42, nums))\n",
    "\n",
    "print(len(list(set(remainder))))"
   ]
  },
  {
   "cell_type": "markdown",
   "id": "1bdc10dc-445b-4ec1-ac67-34a3ebb70a7c",
   "metadata": {},
   "source": [
    "## 짧게 줄인 것!"
   ]
  },
  {
   "cell_type": "code",
   "execution_count": 79,
   "id": "a167139d-95b4-4e3a-9dc1-6458b047ca62",
   "metadata": {
    "collapsed": true,
    "jupyter": {
     "outputs_hidden": true
    },
    "tags": []
   },
   "outputs": [
    {
     "name": "stdin",
     "output_type": "stream",
     "text": [
      " 1\n",
      " 2\n",
      " 3\n",
      " 4\n",
      " 5\n",
      " 6\n",
      " 7\n",
      " 8\n",
      " 9\n",
      " 10\n"
     ]
    },
    {
     "name": "stdout",
     "output_type": "stream",
     "text": [
      "10\n"
     ]
    }
   ],
   "source": [
    "remainder = []\n",
    "\n",
    "for i in range(10):\n",
    "    remainder.append(int(input()) % 42)  ## input할 떄 바로 나머지 구하기!\n",
    "\n",
    "print(len(list(set(remainder))))"
   ]
  },
  {
   "cell_type": "markdown",
   "id": "d1edde30-f987-4630-a84d-89873a5405d3",
   "metadata": {},
   "source": [
    "# OX 퀴즈 (8958)"
   ]
  },
  {
   "cell_type": "markdown",
   "id": "ebd17d19-f75a-43be-8739-f3d7a0e33e40",
   "metadata": {},
   "source": [
    "## 제출한 답!"
   ]
  },
  {
   "cell_type": "code",
   "execution_count": 95,
   "id": "1ec274be-b6a5-4a40-bf17-e35e6efd5ec1",
   "metadata": {},
   "outputs": [
    {
     "name": "stdin",
     "output_type": "stream",
     "text": [
      " 5\n",
      " OOXXOXXOOO\n"
     ]
    },
    {
     "name": "stdout",
     "output_type": "stream",
     "text": [
      "10\n"
     ]
    },
    {
     "name": "stdin",
     "output_type": "stream",
     "text": [
      " OOXXOOXXOO\n"
     ]
    },
    {
     "name": "stdout",
     "output_type": "stream",
     "text": [
      "9\n"
     ]
    },
    {
     "name": "stdin",
     "output_type": "stream",
     "text": [
      " OXOXOXOXOXOXOX\n"
     ]
    },
    {
     "name": "stdout",
     "output_type": "stream",
     "text": [
      "7\n"
     ]
    },
    {
     "name": "stdin",
     "output_type": "stream",
     "text": [
      " OOOOOOOOOO\n"
     ]
    },
    {
     "name": "stdout",
     "output_type": "stream",
     "text": [
      "55\n"
     ]
    },
    {
     "name": "stdin",
     "output_type": "stream",
     "text": [
      " OOOOXOOOOXOOOOX\n"
     ]
    },
    {
     "name": "stdout",
     "output_type": "stream",
     "text": [
      "30\n"
     ]
    }
   ],
   "source": [
    "t = int(input())\n",
    "\n",
    "for i in range(t):\n",
    "    score = 0\n",
    "    total_score = 0\n",
    "    case = input()\n",
    "\n",
    "    for i in case:\n",
    "        if i == 'O':\n",
    "            score += 1\n",
    "            total_score += score\n",
    "        else:\n",
    "            score = 0\n",
    "\n",
    "    print(total_score)"
   ]
  },
  {
   "cell_type": "markdown",
   "id": "44f16747-0201-4725-85ba-d3e31b276b8e",
   "metadata": {},
   "source": [
    "## split('X')를 이용하는 방법!"
   ]
  },
  {
   "cell_type": "code",
   "execution_count": 103,
   "id": "69955b4d-d264-4e93-869e-be3579bb1a0c",
   "metadata": {},
   "outputs": [
    {
     "name": "stdin",
     "output_type": "stream",
     "text": [
      " 2\n",
      " OOXXOXXOOO\n"
     ]
    },
    {
     "name": "stdout",
     "output_type": "stream",
     "text": [
      "10\n"
     ]
    },
    {
     "name": "stdin",
     "output_type": "stream",
     "text": [
      " OOXXOXXOOOXXO\n"
     ]
    },
    {
     "name": "stdout",
     "output_type": "stream",
     "text": [
      "11\n"
     ]
    }
   ],
   "source": [
    "t = int(input())\n",
    "\n",
    "for i in range(t):\n",
    "    score = 0\n",
    "    for group in input().split('X'):\n",
    "        score += sum(range(len(group) + 1))\n",
    "        ## range(3) 은 0, 1, 2 니까 3까지 더하려면 1을 더해줘야 함\n",
    "\n",
    "    print(score)"
   ]
  },
  {
   "cell_type": "markdown",
   "id": "2afe7aae-6603-43db-9025-2d18b6fb57b0",
   "metadata": {},
   "source": [
    "# 시험 성적 (9498)"
   ]
  },
  {
   "cell_type": "markdown",
   "id": "5a15e3fb-8e27-4a91-9dcb-6e40d1be6230",
   "metadata": {},
   "source": [
    "## 내 풀이!"
   ]
  },
  {
   "cell_type": "code",
   "execution_count": 5,
   "id": "f3a7ae16-6a4a-4632-bf0b-af97959a6e9f",
   "metadata": {},
   "outputs": [
    {
     "name": "stdin",
     "output_type": "stream",
     "text": [
      " 100\n"
     ]
    },
    {
     "name": "stdout",
     "output_type": "stream",
     "text": [
      "A\n"
     ]
    }
   ],
   "source": [
    "score = int(input())\n",
    "\n",
    "if 90 <= score:\n",
    "    print(\"A\")\n",
    "elif 80 <= score <= 89:\n",
    "    print(\"B\")\n",
    "elif 70 <= score <= 79:\n",
    "    print(\"C\")\n",
    "elif 60 <= score <= 69:\n",
    "    print(\"D\")\n",
    "else:\n",
    "    print(\"F\")"
   ]
  },
  {
   "cell_type": "markdown",
   "id": "e61ae085-5b3e-430f-bab1-a455fa73f4f6",
   "metadata": {},
   "source": [
    "## 숏코딩!"
   ]
  },
  {
   "cell_type": "code",
   "execution_count": 10,
   "id": "8b2a3312-217e-468c-8235-9e9804e32d69",
   "metadata": {},
   "outputs": [
    {
     "name": "stdin",
     "output_type": "stream",
     "text": [
      " 100\n"
     ]
    },
    {
     "name": "stdout",
     "output_type": "stream",
     "text": [
      "A\n"
     ]
    }
   ],
   "source": [
    "## 각 alphabet grade의 점수들이 모두 같은 10의 자리(?)를 가지고 있다는 것을 이용!\n",
    "\n",
    "print(\n",
    "    'FFFFFFDCBAA'[int(input())//10]\n",
    ")"
   ]
  },
  {
   "cell_type": "markdown",
   "id": "833b2d6f-e6a8-4ab0-82e4-7333811e78ec",
   "metadata": {},
   "source": [
    "# 알파벳 찾기 (10809)"
   ]
  },
  {
   "cell_type": "markdown",
   "id": "9716328d-a7f1-4256-ab9a-edb6c385f208",
   "metadata": {},
   "source": [
    "## 내 풀이!"
   ]
  },
  {
   "cell_type": "code",
   "execution_count": 11,
   "id": "092f840e-5f40-40db-8bd1-e2f8bff27e03",
   "metadata": {},
   "outputs": [
    {
     "name": "stdin",
     "output_type": "stream",
     "text": [
      " baekjoon\n"
     ]
    },
    {
     "name": "stdout",
     "output_type": "stream",
     "text": [
      "1 0 -1 -1 2 -1 -1 -1 -1 4 3 -1 -1 7 5 -1 -1 -1 -1 -1 -1 -1 -1 -1 -1 -1 "
     ]
    }
   ],
   "source": [
    "word = input()\n",
    "al = \"abcdefghijklmnopqrstuvwxyz\"\n",
    "\n",
    "for i in al:\n",
    "    if i in word:\n",
    "        print(word.index(i), end=\" \")\n",
    "    else:\n",
    "        print(-1, end=\" \")"
   ]
  },
  {
   "cell_type": "markdown",
   "id": "543850e3-da66-417c-bb4f-3a20f373dca3",
   "metadata": {},
   "source": [
    "## find()와 chr()을 사용한 더 간단한 풀이!"
   ]
  },
  {
   "cell_type": "code",
   "execution_count": 22,
   "id": "c592ba9c-02ec-4fc0-81a1-325371b18b88",
   "metadata": {},
   "outputs": [
    {
     "name": "stdin",
     "output_type": "stream",
     "text": [
      " baekjoon\n"
     ]
    },
    {
     "name": "stdout",
     "output_type": "stream",
     "text": [
      "1 0 -1 -1 2 -1 -1 -1 -1 4 3 -1 -1 7 5 -1 -1 -1 -1 -1 -1 -1 -1 -1 -1 -1 "
     ]
    }
   ],
   "source": [
    "word = input()\n",
    "al = list(range(97, 123))\n",
    "\n",
    "for i in al:\n",
    "    print(word.find(chr(i)), end=\" \")"
   ]
  },
  {
   "cell_type": "markdown",
   "id": "bbe04a93-5e98-4298-9454-865e4336ad6f",
   "metadata": {},
   "source": [
    "# 최소, 최대 (10818)"
   ]
  },
  {
   "cell_type": "code",
   "execution_count": 25,
   "id": "36d005af-f0fd-4992-a7d1-8947b4c71ac8",
   "metadata": {},
   "outputs": [
    {
     "name": "stdin",
     "output_type": "stream",
     "text": [
      " 5\n",
      " 20 10 35 30 7\n"
     ]
    },
    {
     "name": "stdout",
     "output_type": "stream",
     "text": [
      "7 35\n"
     ]
    }
   ],
   "source": [
    "N = int(input())\n",
    "\n",
    "nums = list(map(int, input().split()))\n",
    "print(min(nums), max(nums))"
   ]
  },
  {
   "cell_type": "markdown",
   "id": "1458239d-992f-4bc8-a48d-50ce4753bb9a",
   "metadata": {},
   "source": [
    "# 아스키 코드 (11654)"
   ]
  },
  {
   "cell_type": "markdown",
   "id": "1c148b07-b50a-40e2-9883-785532b7712e",
   "metadata": {},
   "source": [
    "## ord() 함수(문자 -> 아스키코드)"
   ]
  },
  {
   "cell_type": "code",
   "execution_count": 50,
   "id": "c098cafa-1b8a-4822-a8a2-488c330cbd4c",
   "metadata": {},
   "outputs": [
    {
     "name": "stdin",
     "output_type": "stream",
     "text": [
      " 1\n"
     ]
    },
    {
     "name": "stdout",
     "output_type": "stream",
     "text": [
      "49\n"
     ]
    }
   ],
   "source": [
    "letter = input()\n",
    "print(ord(letter))"
   ]
  },
  {
   "cell_type": "markdown",
   "id": "c8d95749-5dd7-4108-afd4-afc08ec94990",
   "metadata": {},
   "source": [
    "## chr() 함수 (아스키코드 -> 문자)"
   ]
  },
  {
   "cell_type": "code",
   "execution_count": 52,
   "id": "cdf9e057-7993-4264-838b-8d44fc99d43d",
   "metadata": {},
   "outputs": [
    {
     "name": "stdout",
     "output_type": "stream",
     "text": [
      "1\n"
     ]
    }
   ],
   "source": [
    "ASCII_letter = ord(letter)\n",
    "print(chr(ASCII_letter))"
   ]
  },
  {
   "cell_type": "markdown",
   "id": "7967bea5-5545-432f-a6bf-766ffb533c77",
   "metadata": {},
   "source": [
    "# 숫자의 합 (11720)"
   ]
  },
  {
   "cell_type": "markdown",
   "id": "d6352843-9bd7-48fd-a350-21285ab6277a",
   "metadata": {},
   "source": [
    "## [*문자열] --> 문자열의 각 문자를 리스트의 원소로 저장하기!"
   ]
  },
  {
   "cell_type": "code",
   "execution_count": 39,
   "id": "54479a13-55a7-4c3d-9bd8-5809ec255a86",
   "metadata": {
    "jp-MarkdownHeadingCollapsed": true,
    "tags": []
   },
   "outputs": [
    {
     "name": "stdin",
     "output_type": "stream",
     "text": [
      " 11\n",
      " 10987654321\n"
     ]
    },
    {
     "name": "stdout",
     "output_type": "stream",
     "text": [
      "46\n"
     ]
    }
   ],
   "source": [
    "N = int(input())\n",
    "\n",
    "nums = list(map(int, [*input()]))\n",
    "print(sum(nums))"
   ]
  }
 ],
 "metadata": {
  "kernelspec": {
   "display_name": "Python 3 (ipykernel)",
   "language": "python",
   "name": "python3"
  },
  "language_info": {
   "codemirror_mode": {
    "name": "ipython",
    "version": 3
   },
   "file_extension": ".py",
   "mimetype": "text/x-python",
   "name": "python",
   "nbconvert_exporter": "python",
   "pygments_lexer": "ipython3",
   "version": "3.9.7"
  },
  "toc-autonumbering": true
 },
 "nbformat": 4,
 "nbformat_minor": 5
}
