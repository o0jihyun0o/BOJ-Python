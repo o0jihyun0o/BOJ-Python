{
 "cells": [
  {
   "cell_type": "markdown",
   "id": "91b62254-5557-43c1-9d0a-04cb827d1329",
   "metadata": {},
   "source": [
    "## 내 풀이!\n",
    "- 얼마 전에 [::-1]을 썼던 문제가 생각나서 금방 풀었다!"
   ]
  },
  {
   "cell_type": "code",
   "execution_count": 9,
   "id": "8f088bd7-96e3-479b-ac47-102fa2f8da11",
   "metadata": {},
   "outputs": [
    {
     "name": "stdin",
     "output_type": "stream",
     "text": [
      " 121\n"
     ]
    },
    {
     "name": "stdout",
     "output_type": "stream",
     "text": [
      "yes\n"
     ]
    },
    {
     "name": "stdin",
     "output_type": "stream",
     "text": [
      " 1231\n"
     ]
    },
    {
     "name": "stdout",
     "output_type": "stream",
     "text": [
      "no\n"
     ]
    },
    {
     "name": "stdin",
     "output_type": "stream",
     "text": [
      " 12421\n"
     ]
    },
    {
     "name": "stdout",
     "output_type": "stream",
     "text": [
      "yes\n"
     ]
    },
    {
     "name": "stdin",
     "output_type": "stream",
     "text": [
      " 0\n"
     ]
    }
   ],
   "source": [
    "while(True):\n",
    "    word = input()\n",
    "    reverse_word = word[::-1]\n",
    "    \n",
    "    if word == '0':\n",
    "        break\n",
    "    else:\n",
    "        if word == reverse_word:\n",
    "            print('yes')\n",
    "        else:\n",
    "            print('no')"
   ]
  }
 ],
 "metadata": {
  "kernelspec": {
   "display_name": "Python 3 (ipykernel)",
   "language": "python",
   "name": "python3"
  },
  "language_info": {
   "codemirror_mode": {
    "name": "ipython",
    "version": 3
   },
   "file_extension": ".py",
   "mimetype": "text/x-python",
   "name": "python",
   "nbconvert_exporter": "python",
   "pygments_lexer": "ipython3",
   "version": "3.9.7"
  }
 },
 "nbformat": 4,
 "nbformat_minor": 5
}
