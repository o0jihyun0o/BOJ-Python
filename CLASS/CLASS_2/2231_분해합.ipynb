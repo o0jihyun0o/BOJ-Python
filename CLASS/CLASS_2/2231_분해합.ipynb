{
 "cells": [
  {
   "cell_type": "markdown",
   "id": "d8408ef7-e781-48b6-8463-b499b3dea520",
   "metadata": {
    "tags": []
   },
   "source": [
    "## 내 풀이!"
   ]
  },
  {
   "cell_type": "code",
   "execution_count": 15,
   "id": "0f21e080-f139-4645-a8f9-d5a39ca76fdb",
   "metadata": {},
   "outputs": [
    {
     "name": "stdin",
     "output_type": "stream",
     "text": [
      " 216\n"
     ]
    },
    {
     "name": "stdout",
     "output_type": "stream",
     "text": [
      "198\n"
     ]
    }
   ],
   "source": [
    "# 56 > 56+5+6 > 67\n",
    "# x > x+x의 각 자리수의 합 > x의 분해합\n",
    "\n",
    "n = int(input())\n",
    "i = 0\n",
    "\n",
    "while i < n:\n",
    "    gen = i\n",
    "    gen_sum = n - i\n",
    "    if sum(list(map(int, [*str(gen)]))) == gen_sum:\n",
    "        print(gen)\n",
    "        break\n",
    "    else:\n",
    "        i += 1\n",
    "\n",
    "if i == n:\n",
    "    print(0)"
   ]
  },
  {
   "cell_type": "markdown",
   "id": "49bcc202-4fef-434f-9722-b81cd184aa66",
   "metadata": {},
   "source": [
    "## 다른 풀이!\n",
    "- 각 자리수의 합 구할 때 리스트가 아닌 문자열을 사용해도 된다!\n",
    "- while 대신 for문을 사용해도 된다!"
   ]
  },
  {
   "cell_type": "code",
   "execution_count": 1,
   "id": "b5de95b3-fe20-4aa5-b99d-5a624d2537d4",
   "metadata": {},
   "outputs": [
    {
     "name": "stdin",
     "output_type": "stream",
     "text": [
      " 216\n"
     ]
    },
    {
     "name": "stdout",
     "output_type": "stream",
     "text": [
      "198\n"
     ]
    }
   ],
   "source": [
    "n = int(input())\n",
    "result = 0\n",
    "\n",
    "for i in range(n):\n",
    "    all_sum = i + sum(map(int, str(i)))\n",
    "    if n == all_sum:\n",
    "        result = i\n",
    "        break\n",
    "\n",
    "print(result)"
   ]
  }
 ],
 "metadata": {
  "kernelspec": {
   "display_name": "Python 3 (ipykernel)",
   "language": "python",
   "name": "python3"
  },
  "language_info": {
   "codemirror_mode": {
    "name": "ipython",
    "version": 3
   },
   "file_extension": ".py",
   "mimetype": "text/x-python",
   "name": "python",
   "nbconvert_exporter": "python",
   "pygments_lexer": "ipython3",
   "version": "3.9.7"
  }
 },
 "nbformat": 4,
 "nbformat_minor": 5
}
