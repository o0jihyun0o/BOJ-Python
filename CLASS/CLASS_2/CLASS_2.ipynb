{
 "cells": [
  {
   "cell_type": "markdown",
   "id": "e1aba80b-a247-4532-bae2-95e58e1c35b8",
   "metadata": {},
   "source": [
    "# 직사각형에서 탈출 (1085)"
   ]
  },
  {
   "cell_type": "markdown",
   "id": "c5350042-1dab-43a7-8189-799d4a0288c8",
   "metadata": {},
   "source": [
    "## 틀린 건 아니지만 이렇게 풀 필요가 없었다..."
   ]
  },
  {
   "cell_type": "code",
   "execution_count": 9,
   "id": "c6435bad-13f4-4a78-9cb5-add7e823fb88",
   "metadata": {},
   "outputs": [
    {
     "name": "stdin",
     "output_type": "stream",
     "text": [
      " 161 181 762 375\n"
     ]
    },
    {
     "name": "stdout",
     "output_type": "stream",
     "text": [
      "161\n"
     ]
    }
   ],
   "source": [
    "x, y, w, h = map(int, input().split())\n",
    "\n",
    "if w / x < 2 and h / y < 2:\n",
    "    if (h-y) < (w-x):\n",
    "        print(h-y)\n",
    "    else:\n",
    "        print(w-x)\n",
    "elif w / x >= 2:\n",
    "    if h / y < 2:\n",
    "        print(min([x, h-y]))\n",
    "    else:\n",
    "        print(min([x, y]))\n",
    "else:\n",
    "    print(min([w-x, y]))"
   ]
  },
  {
   "cell_type": "markdown",
   "id": "e4b03c03-41d7-47bd-a574-928f1bcfba7b",
   "metadata": {},
   "source": [
    "## 훨씬 간단한 방법!"
   ]
  },
  {
   "cell_type": "code",
   "execution_count": 10,
   "id": "58310808-f54e-49a1-878b-037f82bd0233",
   "metadata": {},
   "outputs": [
    {
     "name": "stdin",
     "output_type": "stream",
     "text": [
      " 161 181 762 375\n"
     ]
    },
    {
     "name": "stdout",
     "output_type": "stream",
     "text": [
      "161\n"
     ]
    }
   ],
   "source": [
    "x, y, w, h = map(int, input().split())\n",
    "print(min([x, y, w-x, h-y]))"
   ]
  }
 ],
 "metadata": {
  "kernelspec": {
   "display_name": "Python 3 (ipykernel)",
   "language": "python",
   "name": "python3"
  },
  "language_info": {
   "codemirror_mode": {
    "name": "ipython",
    "version": 3
   },
   "file_extension": ".py",
   "mimetype": "text/x-python",
   "name": "python",
   "nbconvert_exporter": "python",
   "pygments_lexer": "ipython3",
   "version": "3.9.7"
  }
 },
 "nbformat": 4,
 "nbformat_minor": 5
}
