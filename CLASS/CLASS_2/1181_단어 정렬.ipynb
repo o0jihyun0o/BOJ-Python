{
 "cells": [
  {
   "cell_type": "markdown",
   "id": "0d53eafb-122b-461e-a973-cfeb7df0ad1e",
   "metadata": {},
   "source": [
    "## list의 원소로 list가 들어있어도 sort 가능!"
   ]
  },
  {
   "cell_type": "code",
   "execution_count": 2,
   "id": "e9a965c6-c505-4fec-b4fc-3245c66a7319",
   "metadata": {
    "tags": []
   },
   "outputs": [
    {
     "name": "stdout",
     "output_type": "stream",
     "text": [
      "[[[1], 'A'], [[1], 'B'], [[2], 'A'], [[3], 'C']]\n"
     ]
    }
   ],
   "source": [
    "L = [[[1], 'A'], [[2], 'A'], [[1], 'B'], [[3], 'C']]\n",
    "\n",
    "L.sort()\n",
    "print(L)"
   ]
  },
  {
   "cell_type": "markdown",
   "id": "802164e8-8cb8-423a-8f26-ae38dd4640a6",
   "metadata": {},
   "source": [
    "## 위의 예를 이용한 내 풀이!"
   ]
  },
  {
   "cell_type": "code",
   "execution_count": 4,
   "id": "c464b8f6-a210-4a6a-8637-ace8c6627dae",
   "metadata": {
    "tags": []
   },
   "outputs": [
    {
     "name": "stdin",
     "output_type": "stream",
     "text": [
      " 3\n",
      " aaaaab\n",
      " aaaaac\n",
      " acb\n"
     ]
    },
    {
     "name": "stdout",
     "output_type": "stream",
     "text": [
      "acb\n",
      "aaaaab\n",
      "aaaaac\n"
     ]
    }
   ],
   "source": [
    "n = int(input())\n",
    "words = []\n",
    "num_words = []\n",
    "\n",
    "for i in range(n):\n",
    "    words.append(input())\n",
    "\n",
    "words = list(set(words))\n",
    "\n",
    "for i in words:\n",
    "    num_words.append([[len(i)], i])\n",
    "\n",
    "num_words.sort()\n",
    "\n",
    "for i in range(len(num_words)):\n",
    "    print(num_words[i][1])"
   ]
  },
  {
   "cell_type": "markdown",
   "id": "49de2338-f929-4f11-9ebb-5e99e173e6c7",
   "metadata": {},
   "source": [
    "## list 원소로 set를 넣어도 풀린다!"
   ]
  },
  {
   "cell_type": "code",
   "execution_count": 5,
   "id": "0dea6c85-6e56-4c77-b7e7-a979bfeda4f3",
   "metadata": {},
   "outputs": [
    {
     "name": "stdin",
     "output_type": "stream",
     "text": [
      " 3\n",
      " aaaab\n",
      " aaaac\n",
      " cba\n"
     ]
    },
    {
     "name": "stdout",
     "output_type": "stream",
     "text": [
      "cba\n",
      "aaaab\n",
      "aaaac\n"
     ]
    }
   ],
   "source": [
    "n = int(input())\n",
    "words = []\n",
    "num_words = []\n",
    "\n",
    "for i in range(n):\n",
    "    words.append(input())\n",
    "\n",
    "words = list(set(words))\n",
    "\n",
    "for i in words:\n",
    "    num_words.append((len(i), i))\n",
    "\n",
    "num_words.sort()\n",
    "\n",
    "for x, y in num_words:\n",
    "    print(y)"
   ]
  }
 ],
 "metadata": {
  "kernelspec": {
   "display_name": "Python 3 (ipykernel)",
   "language": "python",
   "name": "python3"
  },
  "language_info": {
   "codemirror_mode": {
    "name": "ipython",
    "version": 3
   },
   "file_extension": ".py",
   "mimetype": "text/x-python",
   "name": "python",
   "nbconvert_exporter": "python",
   "pygments_lexer": "ipython3",
   "version": "3.9.7"
  }
 },
 "nbformat": 4,
 "nbformat_minor": 5
}
