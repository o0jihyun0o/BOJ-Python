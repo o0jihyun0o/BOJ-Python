{
 "cells": [
  {
   "cell_type": "markdown",
   "id": "b470aba1-4cb3-446b-9a15-565d460f8c08",
   "metadata": {},
   "source": [
    "## 시간초과..."
   ]
  },
  {
   "cell_type": "code",
   "execution_count": 39,
   "id": "3d36385f-b118-4e75-8d18-7d001cbc725e",
   "metadata": {},
   "outputs": [
    {
     "name": "stdin",
     "output_type": "stream",
     "text": [
      " 58\n"
     ]
    },
    {
     "name": "stdout",
     "output_type": "stream",
     "text": [
      "5\n"
     ]
    }
   ],
   "source": [
    "n = int(input())\n",
    "count = 0\n",
    "\n",
    "while(True):\n",
    "    circle_sum = 1\n",
    "    for i in range(count+1):\n",
    "        circle_sum += 6 * i\n",
    "    if n <= circle_sum:\n",
    "        print(count+1)\n",
    "        break\n",
    "    else:\n",
    "        count += 1"
   ]
  },
  {
   "cell_type": "markdown",
   "id": "87558801-3706-4e32-900d-40124dd07f92",
   "metadata": {},
   "source": [
    "## 다시 풀어보기!"
   ]
  },
  {
   "cell_type": "code",
   "execution_count": null,
   "id": "1939272c-ce21-4afe-82de-67010749739e",
   "metadata": {},
   "outputs": [],
   "source": [
    "n = int(input())\n",
    "divided_n = n // 6\n",
    "\n",
    "\n",
    "count = 0\n",
    "\n",
    "while(True):\n",
    "    "
   ]
  }
 ],
 "metadata": {
  "kernelspec": {
   "display_name": "Python 3 (ipykernel)",
   "language": "python",
   "name": "python3"
  },
  "language_info": {
   "codemirror_mode": {
    "name": "ipython",
    "version": 3
   },
   "file_extension": ".py",
   "mimetype": "text/x-python",
   "name": "python",
   "nbconvert_exporter": "python",
   "pygments_lexer": "ipython3",
   "version": "3.9.7"
  }
 },
 "nbformat": 4,
 "nbformat_minor": 5
}
