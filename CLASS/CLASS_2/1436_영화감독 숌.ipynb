{
 "cells": [
  {
   "cell_type": "markdown",
   "id": "81322326-56a0-4801-8041-218f4669fce6",
   "metadata": {},
   "source": [
    "## 1씩 더해가면서 666을 찾는 풀이!"
   ]
  },
  {
   "cell_type": "code",
   "execution_count": 14,
   "id": "0bc1802a-28d3-468b-8288-428902e80cae",
   "metadata": {},
   "outputs": [
    {
     "name": "stdin",
     "output_type": "stream",
     "text": [
      " 500\n"
     ]
    },
    {
     "name": "stdout",
     "output_type": "stream",
     "text": [
      "166699\n"
     ]
    }
   ],
   "source": [
    "n = int(input())\n",
    "count = 0\n",
    "num = 665\n",
    "\n",
    "while(True):\n",
    "    num += 1\n",
    "    if '666' in str(num):\n",
    "        count += 1\n",
    "    if count == n:\n",
    "        print(num)\n",
    "        break"
   ]
  }
 ],
 "metadata": {
  "kernelspec": {
   "display_name": "Python 3 (ipykernel)",
   "language": "python",
   "name": "python3"
  },
  "language_info": {
   "codemirror_mode": {
    "name": "ipython",
    "version": 3
   },
   "file_extension": ".py",
   "mimetype": "text/x-python",
   "name": "python",
   "nbconvert_exporter": "python",
   "pygments_lexer": "ipython3",
   "version": "3.9.7"
  }
 },
 "nbformat": 4,
 "nbformat_minor": 5
}
